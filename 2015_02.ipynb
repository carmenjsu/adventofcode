{
 "metadata": {
  "language_info": {
   "codemirror_mode": {
    "name": "ipython",
    "version": 3
   },
   "file_extension": ".py",
   "mimetype": "text/x-python",
   "name": "python",
   "nbconvert_exporter": "python",
   "pygments_lexer": "ipython3",
   "version": "3.7.5-final"
  },
  "orig_nbformat": 2,
  "kernelspec": {
   "name": "python3",
   "display_name": "Python 3.7.5 64-bit",
   "metadata": {
    "interpreter": {
     "hash": "c8bb34ad1b875d3161ce3302675f29779661d4a35ffbd1d17a3da28b3132449a"
    }
   }
  }
 },
 "nbformat": 4,
 "nbformat_minor": 2,
 "cells": [
  {
   "cell_type": "code",
   "execution_count": 73,
   "metadata": {},
   "outputs": [],
   "source": [
    "import pandas as pd"
   ]
  },
  {
   "cell_type": "code",
   "execution_count": 74,
   "metadata": {},
   "outputs": [
    {
     "output_type": "execute_result",
     "data": {
      "text/plain": [
       "      l   w   h\n",
       "0     3  11  24\n",
       "1    13   5  19\n",
       "2     1   9  27\n",
       "3    24   8  21\n",
       "4     6   8  17\n",
       "..   ..  ..  ..\n",
       "995  30  12  18\n",
       "996  29  11  20\n",
       "997   3  12  15\n",
       "998  24  25  17\n",
       "999  14   6  11\n",
       "\n",
       "[1000 rows x 3 columns]"
      ],
      "text/html": "<div>\n<style scoped>\n    .dataframe tbody tr th:only-of-type {\n        vertical-align: middle;\n    }\n\n    .dataframe tbody tr th {\n        vertical-align: top;\n    }\n\n    .dataframe thead th {\n        text-align: right;\n    }\n</style>\n<table border=\"1\" class=\"dataframe\">\n  <thead>\n    <tr style=\"text-align: right;\">\n      <th></th>\n      <th>l</th>\n      <th>w</th>\n      <th>h</th>\n    </tr>\n  </thead>\n  <tbody>\n    <tr>\n      <th>0</th>\n      <td>3</td>\n      <td>11</td>\n      <td>24</td>\n    </tr>\n    <tr>\n      <th>1</th>\n      <td>13</td>\n      <td>5</td>\n      <td>19</td>\n    </tr>\n    <tr>\n      <th>2</th>\n      <td>1</td>\n      <td>9</td>\n      <td>27</td>\n    </tr>\n    <tr>\n      <th>3</th>\n      <td>24</td>\n      <td>8</td>\n      <td>21</td>\n    </tr>\n    <tr>\n      <th>4</th>\n      <td>6</td>\n      <td>8</td>\n      <td>17</td>\n    </tr>\n    <tr>\n      <th>...</th>\n      <td>...</td>\n      <td>...</td>\n      <td>...</td>\n    </tr>\n    <tr>\n      <th>995</th>\n      <td>30</td>\n      <td>12</td>\n      <td>18</td>\n    </tr>\n    <tr>\n      <th>996</th>\n      <td>29</td>\n      <td>11</td>\n      <td>20</td>\n    </tr>\n    <tr>\n      <th>997</th>\n      <td>3</td>\n      <td>12</td>\n      <td>15</td>\n    </tr>\n    <tr>\n      <th>998</th>\n      <td>24</td>\n      <td>25</td>\n      <td>17</td>\n    </tr>\n    <tr>\n      <th>999</th>\n      <td>14</td>\n      <td>6</td>\n      <td>11</td>\n    </tr>\n  </tbody>\n</table>\n<p>1000 rows × 3 columns</p>\n</div>"
     },
     "metadata": {},
     "execution_count": 74
    }
   ],
   "source": [
    "df_dim = pd.read_csv('2015_2.csv')\n",
    "df_dim"
   ]
  },
  {
   "cell_type": "code",
   "execution_count": 75,
   "metadata": {},
   "outputs": [
    {
     "output_type": "execute_result",
     "data": {
      "text/plain": [
       "      l   w   h  area1  area2  area3  area  extra\n",
       "0     3  11  24     66    528    144   738   33.0\n",
       "1    13   5  19    130    190    494   814   65.0\n",
       "2     1   9  27     18    486     54   558    9.0\n",
       "3    24   8  21    384    336   1008  1728  168.0\n",
       "4     6   8  17     96    272    204   572   48.0\n",
       "..   ..  ..  ..    ...    ...    ...   ...    ...\n",
       "995  30  12  18    720    432   1080  2232  216.0\n",
       "996  29  11  20    638    440   1160  2238  220.0\n",
       "997   3  12  15     72    360     90   522   36.0\n",
       "998  24  25  17   1200    850    816  2866  408.0\n",
       "999  14   6  11    168    132    308   608   66.0\n",
       "\n",
       "[1000 rows x 8 columns]"
      ],
      "text/html": "<div>\n<style scoped>\n    .dataframe tbody tr th:only-of-type {\n        vertical-align: middle;\n    }\n\n    .dataframe tbody tr th {\n        vertical-align: top;\n    }\n\n    .dataframe thead th {\n        text-align: right;\n    }\n</style>\n<table border=\"1\" class=\"dataframe\">\n  <thead>\n    <tr style=\"text-align: right;\">\n      <th></th>\n      <th>l</th>\n      <th>w</th>\n      <th>h</th>\n      <th>area1</th>\n      <th>area2</th>\n      <th>area3</th>\n      <th>area</th>\n      <th>extra</th>\n    </tr>\n  </thead>\n  <tbody>\n    <tr>\n      <th>0</th>\n      <td>3</td>\n      <td>11</td>\n      <td>24</td>\n      <td>66</td>\n      <td>528</td>\n      <td>144</td>\n      <td>738</td>\n      <td>33.0</td>\n    </tr>\n    <tr>\n      <th>1</th>\n      <td>13</td>\n      <td>5</td>\n      <td>19</td>\n      <td>130</td>\n      <td>190</td>\n      <td>494</td>\n      <td>814</td>\n      <td>65.0</td>\n    </tr>\n    <tr>\n      <th>2</th>\n      <td>1</td>\n      <td>9</td>\n      <td>27</td>\n      <td>18</td>\n      <td>486</td>\n      <td>54</td>\n      <td>558</td>\n      <td>9.0</td>\n    </tr>\n    <tr>\n      <th>3</th>\n      <td>24</td>\n      <td>8</td>\n      <td>21</td>\n      <td>384</td>\n      <td>336</td>\n      <td>1008</td>\n      <td>1728</td>\n      <td>168.0</td>\n    </tr>\n    <tr>\n      <th>4</th>\n      <td>6</td>\n      <td>8</td>\n      <td>17</td>\n      <td>96</td>\n      <td>272</td>\n      <td>204</td>\n      <td>572</td>\n      <td>48.0</td>\n    </tr>\n    <tr>\n      <th>...</th>\n      <td>...</td>\n      <td>...</td>\n      <td>...</td>\n      <td>...</td>\n      <td>...</td>\n      <td>...</td>\n      <td>...</td>\n      <td>...</td>\n    </tr>\n    <tr>\n      <th>995</th>\n      <td>30</td>\n      <td>12</td>\n      <td>18</td>\n      <td>720</td>\n      <td>432</td>\n      <td>1080</td>\n      <td>2232</td>\n      <td>216.0</td>\n    </tr>\n    <tr>\n      <th>996</th>\n      <td>29</td>\n      <td>11</td>\n      <td>20</td>\n      <td>638</td>\n      <td>440</td>\n      <td>1160</td>\n      <td>2238</td>\n      <td>220.0</td>\n    </tr>\n    <tr>\n      <th>997</th>\n      <td>3</td>\n      <td>12</td>\n      <td>15</td>\n      <td>72</td>\n      <td>360</td>\n      <td>90</td>\n      <td>522</td>\n      <td>36.0</td>\n    </tr>\n    <tr>\n      <th>998</th>\n      <td>24</td>\n      <td>25</td>\n      <td>17</td>\n      <td>1200</td>\n      <td>850</td>\n      <td>816</td>\n      <td>2866</td>\n      <td>408.0</td>\n    </tr>\n    <tr>\n      <th>999</th>\n      <td>14</td>\n      <td>6</td>\n      <td>11</td>\n      <td>168</td>\n      <td>132</td>\n      <td>308</td>\n      <td>608</td>\n      <td>66.0</td>\n    </tr>\n  </tbody>\n</table>\n<p>1000 rows × 8 columns</p>\n</div>"
     },
     "metadata": {},
     "execution_count": 75
    }
   ],
   "source": [
    "df_dim['area1'] = 2*df_dim['l']*df_dim['w'] \n",
    "df_dim['area2'] = 2*df_dim['w']*df_dim['h']\n",
    "df_dim['area3'] = 2*df_dim['h']*df_dim['l']\n",
    "df_dim['area'] = df_dim['area1'] + df_dim['area2'] + df_dim['area3']\n",
    "df_dim['extra'] = df_dim[['area1','area2','area3']].min(axis=1)/2\n",
    "df_dim"
   ]
  },
  {
   "cell_type": "code",
   "execution_count": 76,
   "metadata": {},
   "outputs": [
    {
     "output_type": "execute_result",
     "data": {
      "text/plain": [
       "      l   w   h  area1  area2  area3  area  extra   total\n",
       "0     3  11  24     66    528    144   738   33.0   771.0\n",
       "1    13   5  19    130    190    494   814   65.0   879.0\n",
       "2     1   9  27     18    486     54   558    9.0   567.0\n",
       "3    24   8  21    384    336   1008  1728  168.0  1896.0\n",
       "4     6   8  17     96    272    204   572   48.0   620.0\n",
       "..   ..  ..  ..    ...    ...    ...   ...    ...     ...\n",
       "995  30  12  18    720    432   1080  2232  216.0  2448.0\n",
       "996  29  11  20    638    440   1160  2238  220.0  2458.0\n",
       "997   3  12  15     72    360     90   522   36.0   558.0\n",
       "998  24  25  17   1200    850    816  2866  408.0  3274.0\n",
       "999  14   6  11    168    132    308   608   66.0   674.0\n",
       "\n",
       "[1000 rows x 9 columns]"
      ],
      "text/html": "<div>\n<style scoped>\n    .dataframe tbody tr th:only-of-type {\n        vertical-align: middle;\n    }\n\n    .dataframe tbody tr th {\n        vertical-align: top;\n    }\n\n    .dataframe thead th {\n        text-align: right;\n    }\n</style>\n<table border=\"1\" class=\"dataframe\">\n  <thead>\n    <tr style=\"text-align: right;\">\n      <th></th>\n      <th>l</th>\n      <th>w</th>\n      <th>h</th>\n      <th>area1</th>\n      <th>area2</th>\n      <th>area3</th>\n      <th>area</th>\n      <th>extra</th>\n      <th>total</th>\n    </tr>\n  </thead>\n  <tbody>\n    <tr>\n      <th>0</th>\n      <td>3</td>\n      <td>11</td>\n      <td>24</td>\n      <td>66</td>\n      <td>528</td>\n      <td>144</td>\n      <td>738</td>\n      <td>33.0</td>\n      <td>771.0</td>\n    </tr>\n    <tr>\n      <th>1</th>\n      <td>13</td>\n      <td>5</td>\n      <td>19</td>\n      <td>130</td>\n      <td>190</td>\n      <td>494</td>\n      <td>814</td>\n      <td>65.0</td>\n      <td>879.0</td>\n    </tr>\n    <tr>\n      <th>2</th>\n      <td>1</td>\n      <td>9</td>\n      <td>27</td>\n      <td>18</td>\n      <td>486</td>\n      <td>54</td>\n      <td>558</td>\n      <td>9.0</td>\n      <td>567.0</td>\n    </tr>\n    <tr>\n      <th>3</th>\n      <td>24</td>\n      <td>8</td>\n      <td>21</td>\n      <td>384</td>\n      <td>336</td>\n      <td>1008</td>\n      <td>1728</td>\n      <td>168.0</td>\n      <td>1896.0</td>\n    </tr>\n    <tr>\n      <th>4</th>\n      <td>6</td>\n      <td>8</td>\n      <td>17</td>\n      <td>96</td>\n      <td>272</td>\n      <td>204</td>\n      <td>572</td>\n      <td>48.0</td>\n      <td>620.0</td>\n    </tr>\n    <tr>\n      <th>...</th>\n      <td>...</td>\n      <td>...</td>\n      <td>...</td>\n      <td>...</td>\n      <td>...</td>\n      <td>...</td>\n      <td>...</td>\n      <td>...</td>\n      <td>...</td>\n    </tr>\n    <tr>\n      <th>995</th>\n      <td>30</td>\n      <td>12</td>\n      <td>18</td>\n      <td>720</td>\n      <td>432</td>\n      <td>1080</td>\n      <td>2232</td>\n      <td>216.0</td>\n      <td>2448.0</td>\n    </tr>\n    <tr>\n      <th>996</th>\n      <td>29</td>\n      <td>11</td>\n      <td>20</td>\n      <td>638</td>\n      <td>440</td>\n      <td>1160</td>\n      <td>2238</td>\n      <td>220.0</td>\n      <td>2458.0</td>\n    </tr>\n    <tr>\n      <th>997</th>\n      <td>3</td>\n      <td>12</td>\n      <td>15</td>\n      <td>72</td>\n      <td>360</td>\n      <td>90</td>\n      <td>522</td>\n      <td>36.0</td>\n      <td>558.0</td>\n    </tr>\n    <tr>\n      <th>998</th>\n      <td>24</td>\n      <td>25</td>\n      <td>17</td>\n      <td>1200</td>\n      <td>850</td>\n      <td>816</td>\n      <td>2866</td>\n      <td>408.0</td>\n      <td>3274.0</td>\n    </tr>\n    <tr>\n      <th>999</th>\n      <td>14</td>\n      <td>6</td>\n      <td>11</td>\n      <td>168</td>\n      <td>132</td>\n      <td>308</td>\n      <td>608</td>\n      <td>66.0</td>\n      <td>674.0</td>\n    </tr>\n  </tbody>\n</table>\n<p>1000 rows × 9 columns</p>\n</div>"
     },
     "metadata": {},
     "execution_count": 76
    }
   ],
   "source": [
    "df_dim['total'] = df_dim['area'] + df_dim['extra']\n",
    "df_dim"
   ]
  },
  {
   "cell_type": "code",
   "execution_count": 77,
   "metadata": {},
   "outputs": [
    {
     "output_type": "execute_result",
     "data": {
      "text/plain": [
       "1588178.0"
      ]
     },
     "metadata": {},
     "execution_count": 77
    }
   ],
   "source": [
    "df_dim['total'].sum()"
   ]
  },
  {
   "cell_type": "code",
   "execution_count": 78,
   "metadata": {},
   "outputs": [
    {
     "output_type": "execute_result",
     "data": {
      "text/plain": [
       "      l   w   h\n",
       "0     3  11  24\n",
       "1    13   5  19\n",
       "2     1   9  27\n",
       "3    24   8  21\n",
       "4     6   8  17\n",
       "..   ..  ..  ..\n",
       "995  30  12  18\n",
       "996  29  11  20\n",
       "997   3  12  15\n",
       "998  24  25  17\n",
       "999  14   6  11\n",
       "\n",
       "[1000 rows x 3 columns]"
      ],
      "text/html": "<div>\n<style scoped>\n    .dataframe tbody tr th:only-of-type {\n        vertical-align: middle;\n    }\n\n    .dataframe tbody tr th {\n        vertical-align: top;\n    }\n\n    .dataframe thead th {\n        text-align: right;\n    }\n</style>\n<table border=\"1\" class=\"dataframe\">\n  <thead>\n    <tr style=\"text-align: right;\">\n      <th></th>\n      <th>l</th>\n      <th>w</th>\n      <th>h</th>\n    </tr>\n  </thead>\n  <tbody>\n    <tr>\n      <th>0</th>\n      <td>3</td>\n      <td>11</td>\n      <td>24</td>\n    </tr>\n    <tr>\n      <th>1</th>\n      <td>13</td>\n      <td>5</td>\n      <td>19</td>\n    </tr>\n    <tr>\n      <th>2</th>\n      <td>1</td>\n      <td>9</td>\n      <td>27</td>\n    </tr>\n    <tr>\n      <th>3</th>\n      <td>24</td>\n      <td>8</td>\n      <td>21</td>\n    </tr>\n    <tr>\n      <th>4</th>\n      <td>6</td>\n      <td>8</td>\n      <td>17</td>\n    </tr>\n    <tr>\n      <th>...</th>\n      <td>...</td>\n      <td>...</td>\n      <td>...</td>\n    </tr>\n    <tr>\n      <th>995</th>\n      <td>30</td>\n      <td>12</td>\n      <td>18</td>\n    </tr>\n    <tr>\n      <th>996</th>\n      <td>29</td>\n      <td>11</td>\n      <td>20</td>\n    </tr>\n    <tr>\n      <th>997</th>\n      <td>3</td>\n      <td>12</td>\n      <td>15</td>\n    </tr>\n    <tr>\n      <th>998</th>\n      <td>24</td>\n      <td>25</td>\n      <td>17</td>\n    </tr>\n    <tr>\n      <th>999</th>\n      <td>14</td>\n      <td>6</td>\n      <td>11</td>\n    </tr>\n  </tbody>\n</table>\n<p>1000 rows × 3 columns</p>\n</div>"
     },
     "metadata": {},
     "execution_count": 78
    }
   ],
   "source": [
    "df_2 = df_dim[['l','w','h']]\n",
    "df_2"
   ]
  },
  {
   "cell_type": "code",
   "execution_count": 174,
   "metadata": {},
   "outputs": [],
   "source": [
    "df_number = pd.DataFrame()"
   ]
  },
  {
   "cell_type": "code",
   "execution_count": 175,
   "metadata": {},
   "outputs": [
    {
     "output_type": "execute_result",
     "data": {
      "text/plain": [
       "     0   1   2\n",
       "0    3  11  24\n",
       "0    5  13  19\n",
       "0    1   9  27\n",
       "0    8  21  24\n",
       "0    6   8  17\n",
       "..  ..  ..  ..\n",
       "0   12  18  30\n",
       "0   11  20  29\n",
       "0    3  12  15\n",
       "0   17  24  25\n",
       "0    6  11  14\n",
       "\n",
       "[1000 rows x 3 columns]"
      ],
      "text/html": "<div>\n<style scoped>\n    .dataframe tbody tr th:only-of-type {\n        vertical-align: middle;\n    }\n\n    .dataframe tbody tr th {\n        vertical-align: top;\n    }\n\n    .dataframe thead th {\n        text-align: right;\n    }\n</style>\n<table border=\"1\" class=\"dataframe\">\n  <thead>\n    <tr style=\"text-align: right;\">\n      <th></th>\n      <th>0</th>\n      <th>1</th>\n      <th>2</th>\n    </tr>\n  </thead>\n  <tbody>\n    <tr>\n      <th>0</th>\n      <td>3</td>\n      <td>11</td>\n      <td>24</td>\n    </tr>\n    <tr>\n      <th>0</th>\n      <td>5</td>\n      <td>13</td>\n      <td>19</td>\n    </tr>\n    <tr>\n      <th>0</th>\n      <td>1</td>\n      <td>9</td>\n      <td>27</td>\n    </tr>\n    <tr>\n      <th>0</th>\n      <td>8</td>\n      <td>21</td>\n      <td>24</td>\n    </tr>\n    <tr>\n      <th>0</th>\n      <td>6</td>\n      <td>8</td>\n      <td>17</td>\n    </tr>\n    <tr>\n      <th>...</th>\n      <td>...</td>\n      <td>...</td>\n      <td>...</td>\n    </tr>\n    <tr>\n      <th>0</th>\n      <td>12</td>\n      <td>18</td>\n      <td>30</td>\n    </tr>\n    <tr>\n      <th>0</th>\n      <td>11</td>\n      <td>20</td>\n      <td>29</td>\n    </tr>\n    <tr>\n      <th>0</th>\n      <td>3</td>\n      <td>12</td>\n      <td>15</td>\n    </tr>\n    <tr>\n      <th>0</th>\n      <td>17</td>\n      <td>24</td>\n      <td>25</td>\n    </tr>\n    <tr>\n      <th>0</th>\n      <td>6</td>\n      <td>11</td>\n      <td>14</td>\n    </tr>\n  </tbody>\n</table>\n<p>1000 rows × 3 columns</p>\n</div>"
     },
     "metadata": {},
     "execution_count": 175
    }
   ],
   "source": [
    "for i in range (0,1000):\n",
    "    list_number = df_2.iloc[i:i+1, :]\n",
    "    list_number = list_number.values.tolist()\n",
    "    list_number = list_number[0]\n",
    "    list_number = sorted(list_number)\n",
    "    df_sort = pd.DataFrame(list_number).transpose()\n",
    "    df_number = df_number.append(df_sort) \n",
    "df_number"
   ]
  },
  {
   "cell_type": "code",
   "execution_count": 176,
   "metadata": {},
   "outputs": [
    {
     "output_type": "execute_result",
     "data": {
      "text/plain": [
       "     0   1   2  ribon\n",
       "0    3  11  24     28\n",
       "0    5  13  19     36\n",
       "0    1   9  27     20\n",
       "0    8  21  24     58\n",
       "0    6   8  17     28\n",
       "..  ..  ..  ..    ...\n",
       "0   12  18  30     60\n",
       "0   11  20  29     62\n",
       "0    3  12  15     30\n",
       "0   17  24  25     82\n",
       "0    6  11  14     34\n",
       "\n",
       "[1000 rows x 4 columns]"
      ],
      "text/html": "<div>\n<style scoped>\n    .dataframe tbody tr th:only-of-type {\n        vertical-align: middle;\n    }\n\n    .dataframe tbody tr th {\n        vertical-align: top;\n    }\n\n    .dataframe thead th {\n        text-align: right;\n    }\n</style>\n<table border=\"1\" class=\"dataframe\">\n  <thead>\n    <tr style=\"text-align: right;\">\n      <th></th>\n      <th>0</th>\n      <th>1</th>\n      <th>2</th>\n      <th>ribon</th>\n    </tr>\n  </thead>\n  <tbody>\n    <tr>\n      <th>0</th>\n      <td>3</td>\n      <td>11</td>\n      <td>24</td>\n      <td>28</td>\n    </tr>\n    <tr>\n      <th>0</th>\n      <td>5</td>\n      <td>13</td>\n      <td>19</td>\n      <td>36</td>\n    </tr>\n    <tr>\n      <th>0</th>\n      <td>1</td>\n      <td>9</td>\n      <td>27</td>\n      <td>20</td>\n    </tr>\n    <tr>\n      <th>0</th>\n      <td>8</td>\n      <td>21</td>\n      <td>24</td>\n      <td>58</td>\n    </tr>\n    <tr>\n      <th>0</th>\n      <td>6</td>\n      <td>8</td>\n      <td>17</td>\n      <td>28</td>\n    </tr>\n    <tr>\n      <th>...</th>\n      <td>...</td>\n      <td>...</td>\n      <td>...</td>\n      <td>...</td>\n    </tr>\n    <tr>\n      <th>0</th>\n      <td>12</td>\n      <td>18</td>\n      <td>30</td>\n      <td>60</td>\n    </tr>\n    <tr>\n      <th>0</th>\n      <td>11</td>\n      <td>20</td>\n      <td>29</td>\n      <td>62</td>\n    </tr>\n    <tr>\n      <th>0</th>\n      <td>3</td>\n      <td>12</td>\n      <td>15</td>\n      <td>30</td>\n    </tr>\n    <tr>\n      <th>0</th>\n      <td>17</td>\n      <td>24</td>\n      <td>25</td>\n      <td>82</td>\n    </tr>\n    <tr>\n      <th>0</th>\n      <td>6</td>\n      <td>11</td>\n      <td>14</td>\n      <td>34</td>\n    </tr>\n  </tbody>\n</table>\n<p>1000 rows × 4 columns</p>\n</div>"
     },
     "metadata": {},
     "execution_count": 176
    }
   ],
   "source": [
    "df_number['ribon'] = df_number[0] + df_number[0] + df_number[1]  + df_number[1] \n",
    "df_number"
   ]
  },
  {
   "cell_type": "code",
   "execution_count": 177,
   "metadata": {},
   "outputs": [
    {
     "output_type": "execute_result",
     "data": {
      "text/plain": [
       "     0   1   2  ribon    bow\n",
       "0    3  11  24     28    792\n",
       "0    5  13  19     36   1235\n",
       "0    1   9  27     20    243\n",
       "0    8  21  24     58   4032\n",
       "0    6   8  17     28    816\n",
       "..  ..  ..  ..    ...    ...\n",
       "0   12  18  30     60   6480\n",
       "0   11  20  29     62   6380\n",
       "0    3  12  15     30    540\n",
       "0   17  24  25     82  10200\n",
       "0    6  11  14     34    924\n",
       "\n",
       "[1000 rows x 5 columns]"
      ],
      "text/html": "<div>\n<style scoped>\n    .dataframe tbody tr th:only-of-type {\n        vertical-align: middle;\n    }\n\n    .dataframe tbody tr th {\n        vertical-align: top;\n    }\n\n    .dataframe thead th {\n        text-align: right;\n    }\n</style>\n<table border=\"1\" class=\"dataframe\">\n  <thead>\n    <tr style=\"text-align: right;\">\n      <th></th>\n      <th>0</th>\n      <th>1</th>\n      <th>2</th>\n      <th>ribon</th>\n      <th>bow</th>\n    </tr>\n  </thead>\n  <tbody>\n    <tr>\n      <th>0</th>\n      <td>3</td>\n      <td>11</td>\n      <td>24</td>\n      <td>28</td>\n      <td>792</td>\n    </tr>\n    <tr>\n      <th>0</th>\n      <td>5</td>\n      <td>13</td>\n      <td>19</td>\n      <td>36</td>\n      <td>1235</td>\n    </tr>\n    <tr>\n      <th>0</th>\n      <td>1</td>\n      <td>9</td>\n      <td>27</td>\n      <td>20</td>\n      <td>243</td>\n    </tr>\n    <tr>\n      <th>0</th>\n      <td>8</td>\n      <td>21</td>\n      <td>24</td>\n      <td>58</td>\n      <td>4032</td>\n    </tr>\n    <tr>\n      <th>0</th>\n      <td>6</td>\n      <td>8</td>\n      <td>17</td>\n      <td>28</td>\n      <td>816</td>\n    </tr>\n    <tr>\n      <th>...</th>\n      <td>...</td>\n      <td>...</td>\n      <td>...</td>\n      <td>...</td>\n      <td>...</td>\n    </tr>\n    <tr>\n      <th>0</th>\n      <td>12</td>\n      <td>18</td>\n      <td>30</td>\n      <td>60</td>\n      <td>6480</td>\n    </tr>\n    <tr>\n      <th>0</th>\n      <td>11</td>\n      <td>20</td>\n      <td>29</td>\n      <td>62</td>\n      <td>6380</td>\n    </tr>\n    <tr>\n      <th>0</th>\n      <td>3</td>\n      <td>12</td>\n      <td>15</td>\n      <td>30</td>\n      <td>540</td>\n    </tr>\n    <tr>\n      <th>0</th>\n      <td>17</td>\n      <td>24</td>\n      <td>25</td>\n      <td>82</td>\n      <td>10200</td>\n    </tr>\n    <tr>\n      <th>0</th>\n      <td>6</td>\n      <td>11</td>\n      <td>14</td>\n      <td>34</td>\n      <td>924</td>\n    </tr>\n  </tbody>\n</table>\n<p>1000 rows × 5 columns</p>\n</div>"
     },
     "metadata": {},
     "execution_count": 177
    }
   ],
   "source": [
    "df_number['bow'] = df_number[0]*df_number[1]*df_number[2]\n",
    "df_number"
   ]
  },
  {
   "cell_type": "code",
   "execution_count": 178,
   "metadata": {},
   "outputs": [
    {
     "output_type": "execute_result",
     "data": {
      "text/plain": [
       "     0   1   2  ribon    bow  total\n",
       "0    3  11  24     28    792    820\n",
       "0    5  13  19     36   1235   1271\n",
       "0    1   9  27     20    243    263\n",
       "0    8  21  24     58   4032   4090\n",
       "0    6   8  17     28    816    844\n",
       "..  ..  ..  ..    ...    ...    ...\n",
       "0   12  18  30     60   6480   6540\n",
       "0   11  20  29     62   6380   6442\n",
       "0    3  12  15     30    540    570\n",
       "0   17  24  25     82  10200  10282\n",
       "0    6  11  14     34    924    958\n",
       "\n",
       "[1000 rows x 6 columns]"
      ],
      "text/html": "<div>\n<style scoped>\n    .dataframe tbody tr th:only-of-type {\n        vertical-align: middle;\n    }\n\n    .dataframe tbody tr th {\n        vertical-align: top;\n    }\n\n    .dataframe thead th {\n        text-align: right;\n    }\n</style>\n<table border=\"1\" class=\"dataframe\">\n  <thead>\n    <tr style=\"text-align: right;\">\n      <th></th>\n      <th>0</th>\n      <th>1</th>\n      <th>2</th>\n      <th>ribon</th>\n      <th>bow</th>\n      <th>total</th>\n    </tr>\n  </thead>\n  <tbody>\n    <tr>\n      <th>0</th>\n      <td>3</td>\n      <td>11</td>\n      <td>24</td>\n      <td>28</td>\n      <td>792</td>\n      <td>820</td>\n    </tr>\n    <tr>\n      <th>0</th>\n      <td>5</td>\n      <td>13</td>\n      <td>19</td>\n      <td>36</td>\n      <td>1235</td>\n      <td>1271</td>\n    </tr>\n    <tr>\n      <th>0</th>\n      <td>1</td>\n      <td>9</td>\n      <td>27</td>\n      <td>20</td>\n      <td>243</td>\n      <td>263</td>\n    </tr>\n    <tr>\n      <th>0</th>\n      <td>8</td>\n      <td>21</td>\n      <td>24</td>\n      <td>58</td>\n      <td>4032</td>\n      <td>4090</td>\n    </tr>\n    <tr>\n      <th>0</th>\n      <td>6</td>\n      <td>8</td>\n      <td>17</td>\n      <td>28</td>\n      <td>816</td>\n      <td>844</td>\n    </tr>\n    <tr>\n      <th>...</th>\n      <td>...</td>\n      <td>...</td>\n      <td>...</td>\n      <td>...</td>\n      <td>...</td>\n      <td>...</td>\n    </tr>\n    <tr>\n      <th>0</th>\n      <td>12</td>\n      <td>18</td>\n      <td>30</td>\n      <td>60</td>\n      <td>6480</td>\n      <td>6540</td>\n    </tr>\n    <tr>\n      <th>0</th>\n      <td>11</td>\n      <td>20</td>\n      <td>29</td>\n      <td>62</td>\n      <td>6380</td>\n      <td>6442</td>\n    </tr>\n    <tr>\n      <th>0</th>\n      <td>3</td>\n      <td>12</td>\n      <td>15</td>\n      <td>30</td>\n      <td>540</td>\n      <td>570</td>\n    </tr>\n    <tr>\n      <th>0</th>\n      <td>17</td>\n      <td>24</td>\n      <td>25</td>\n      <td>82</td>\n      <td>10200</td>\n      <td>10282</td>\n    </tr>\n    <tr>\n      <th>0</th>\n      <td>6</td>\n      <td>11</td>\n      <td>14</td>\n      <td>34</td>\n      <td>924</td>\n      <td>958</td>\n    </tr>\n  </tbody>\n</table>\n<p>1000 rows × 6 columns</p>\n</div>"
     },
     "metadata": {},
     "execution_count": 178
    }
   ],
   "source": [
    "df_number['total'] = df_number['ribon'] + df_number['bow']\n",
    "df_number"
   ]
  },
  {
   "cell_type": "code",
   "execution_count": 181,
   "metadata": {},
   "outputs": [
    {
     "output_type": "execute_result",
     "data": {
      "text/plain": [
       "3783758"
      ]
     },
     "metadata": {},
     "execution_count": 181
    }
   ],
   "source": [
    "df_number['total'].sum()"
   ]
  },
  {
   "cell_type": "code",
   "execution_count": null,
   "metadata": {},
   "outputs": [],
   "source": []
  }
 ]
}