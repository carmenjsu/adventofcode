{
 "metadata": {
  "language_info": {
   "codemirror_mode": {
    "name": "ipython",
    "version": 3
   },
   "file_extension": ".py",
   "mimetype": "text/x-python",
   "name": "python",
   "nbconvert_exporter": "python",
   "pygments_lexer": "ipython3",
   "version": "3.7.5-final"
  },
  "orig_nbformat": 2,
  "kernelspec": {
   "name": "python3",
   "display_name": "Python 3.7.5 64-bit",
   "metadata": {
    "interpreter": {
     "hash": "c8bb34ad1b875d3161ce3302675f29779661d4a35ffbd1d17a3da28b3132449a"
    }
   }
  }
 },
 "nbformat": 4,
 "nbformat_minor": 2,
 "cells": [
  {
   "cell_type": "code",
   "execution_count": 1,
   "metadata": {},
   "outputs": [],
   "source": [
    "import pandas as pd"
   ]
  },
  {
   "cell_type": "code",
   "execution_count": 2,
   "metadata": {},
   "outputs": [
    {
     "output_type": "execute_result",
     "data": {
      "text/plain": [
       "     input\n",
       "0     1765\n",
       "1     1742\n",
       "2     1756\n",
       "3     1688\n",
       "4     1973\n",
       "..     ...\n",
       "195   1429\n",
       "196   1751\n",
       "197   1722\n",
       "198   1887\n",
       "199   1968\n",
       "\n",
       "[200 rows x 1 columns]"
      ],
      "text/html": "<div>\n<style scoped>\n    .dataframe tbody tr th:only-of-type {\n        vertical-align: middle;\n    }\n\n    .dataframe tbody tr th {\n        vertical-align: top;\n    }\n\n    .dataframe thead th {\n        text-align: right;\n    }\n</style>\n<table border=\"1\" class=\"dataframe\">\n  <thead>\n    <tr style=\"text-align: right;\">\n      <th></th>\n      <th>input</th>\n    </tr>\n  </thead>\n  <tbody>\n    <tr>\n      <th>0</th>\n      <td>1765</td>\n    </tr>\n    <tr>\n      <th>1</th>\n      <td>1742</td>\n    </tr>\n    <tr>\n      <th>2</th>\n      <td>1756</td>\n    </tr>\n    <tr>\n      <th>3</th>\n      <td>1688</td>\n    </tr>\n    <tr>\n      <th>4</th>\n      <td>1973</td>\n    </tr>\n    <tr>\n      <th>...</th>\n      <td>...</td>\n    </tr>\n    <tr>\n      <th>195</th>\n      <td>1429</td>\n    </tr>\n    <tr>\n      <th>196</th>\n      <td>1751</td>\n    </tr>\n    <tr>\n      <th>197</th>\n      <td>1722</td>\n    </tr>\n    <tr>\n      <th>198</th>\n      <td>1887</td>\n    </tr>\n    <tr>\n      <th>199</th>\n      <td>1968</td>\n    </tr>\n  </tbody>\n</table>\n<p>200 rows × 1 columns</p>\n</div>"
     },
     "metadata": {},
     "execution_count": 2
    }
   ],
   "source": [
    "df = pd.read_csv('2020_01.csv')\n",
    "df"
   ]
  },
  {
   "cell_type": "code",
   "execution_count": 11,
   "metadata": {},
   "outputs": [],
   "source": [
    "df_above = df.loc[df['input'] > 1000]\n",
    "above = df_above['input'].tolist()"
   ]
  },
  {
   "cell_type": "code",
   "execution_count": 9,
   "metadata": {},
   "outputs": [
    {
     "output_type": "execute_result",
     "data": {
      "text/plain": [
       "[343, 857, 483, 418, 616, 677, 741, 680]"
      ]
     },
     "metadata": {},
     "execution_count": 9
    }
   ],
   "source": [
    "df_below = df.loc[df['input'] < 1000]\n",
    "below = df_below['input'].tolist()\n",
    "below"
   ]
  },
  {
   "cell_type": "code",
   "execution_count": 15,
   "metadata": {},
   "outputs": [
    {
     "output_type": "stream",
     "name": "stdout",
     "text": [
      "the entries are 1404 and 616\n"
     ]
    }
   ],
   "source": [
    "for i in above:\n",
    "    for j in below:\n",
    "        if i+j == 2020:\n",
    "            print (f'the entries are {i} and {j}')"
   ]
  },
  {
   "cell_type": "code",
   "execution_count": 16,
   "metadata": {},
   "outputs": [
    {
     "output_type": "execute_result",
     "data": {
      "text/plain": [
       "864864"
      ]
     },
     "metadata": {},
     "execution_count": 16
    }
   ],
   "source": [
    "1404 * 616\n"
   ]
  },
  {
   "cell_type": "code",
   "execution_count": 19,
   "metadata": {},
   "outputs": [
    {
     "output_type": "stream",
     "name": "stdout",
     "text": [
      "the entries are 857 and 483 and 680\nthe entries are 857 and 680 and 483\nthe entries are 483 and 857 and 680\nthe entries are 483 and 680 and 857\nthe entries are 680 and 857 and 483\nthe entries are 680 and 483 and 857\n"
     ]
    }
   ],
   "source": [
    "for i in below:\n",
    "    for j in below:\n",
    "        for k in below:\n",
    "            if i+j+k == 2020:\n",
    "                print (f'the entries are {i} and {j} and {k}')"
   ]
  },
  {
   "cell_type": "code",
   "execution_count": 20,
   "metadata": {},
   "outputs": [
    {
     "output_type": "execute_result",
     "data": {
      "text/plain": [
       "281473080"
      ]
     },
     "metadata": {},
     "execution_count": 20
    }
   ],
   "source": [
    "857*483*680"
   ]
  },
  {
   "cell_type": "code",
   "execution_count": null,
   "metadata": {},
   "outputs": [],
   "source": []
  }
 ]
}