{
 "metadata": {
  "language_info": {
   "codemirror_mode": {
    "name": "ipython",
    "version": 3
   },
   "file_extension": ".py",
   "mimetype": "text/x-python",
   "name": "python",
   "nbconvert_exporter": "python",
   "pygments_lexer": "ipython3",
   "version": "3.7.5-final"
  },
  "orig_nbformat": 2,
  "kernelspec": {
   "name": "python3",
   "display_name": "Python 3.7.5 64-bit",
   "metadata": {
    "interpreter": {
     "hash": "c8bb34ad1b875d3161ce3302675f29779661d4a35ffbd1d17a3da28b3132449a"
    }
   }
  }
 },
 "nbformat": 4,
 "nbformat_minor": 2,
 "cells": [
  {
   "cell_type": "code",
   "execution_count": 1,
   "metadata": {},
   "outputs": [],
   "source": [
    "import pandas as pd"
   ]
  },
  {
   "cell_type": "code",
   "execution_count": 2,
   "metadata": {},
   "outputs": [
    {
     "output_type": "execute_result",
     "data": {
      "text/plain": [
       "     min  max letter                   pwd\n",
       "0      1   13      r      gqdrspndrpsrjfjx\n",
       "1      5   16      j   jjjjkjjzjjjjjfjzjjj\n",
       "2     14   16      r      rrrnrrrrrcnrgxrr\n",
       "3      1    3      k            bkktwhgktv\n",
       "4      3    5      q            dxqqqzmqvs\n",
       "..   ...  ...    ...                   ...\n",
       "995    2    5      r                nrrzrr\n",
       "996    4    6      g                kggggg\n",
       "997    6    7      c             cccccdqcc\n",
       "998    2    6      x            vjkxbrfwnj\n",
       "999   16   18      s  kssssssswssssssssssb\n",
       "\n",
       "[1000 rows x 4 columns]"
      ],
      "text/html": "<div>\n<style scoped>\n    .dataframe tbody tr th:only-of-type {\n        vertical-align: middle;\n    }\n\n    .dataframe tbody tr th {\n        vertical-align: top;\n    }\n\n    .dataframe thead th {\n        text-align: right;\n    }\n</style>\n<table border=\"1\" class=\"dataframe\">\n  <thead>\n    <tr style=\"text-align: right;\">\n      <th></th>\n      <th>min</th>\n      <th>max</th>\n      <th>letter</th>\n      <th>pwd</th>\n    </tr>\n  </thead>\n  <tbody>\n    <tr>\n      <th>0</th>\n      <td>1</td>\n      <td>13</td>\n      <td>r</td>\n      <td>gqdrspndrpsrjfjx</td>\n    </tr>\n    <tr>\n      <th>1</th>\n      <td>5</td>\n      <td>16</td>\n      <td>j</td>\n      <td>jjjjkjjzjjjjjfjzjjj</td>\n    </tr>\n    <tr>\n      <th>2</th>\n      <td>14</td>\n      <td>16</td>\n      <td>r</td>\n      <td>rrrnrrrrrcnrgxrr</td>\n    </tr>\n    <tr>\n      <th>3</th>\n      <td>1</td>\n      <td>3</td>\n      <td>k</td>\n      <td>bkktwhgktv</td>\n    </tr>\n    <tr>\n      <th>4</th>\n      <td>3</td>\n      <td>5</td>\n      <td>q</td>\n      <td>dxqqqzmqvs</td>\n    </tr>\n    <tr>\n      <th>...</th>\n      <td>...</td>\n      <td>...</td>\n      <td>...</td>\n      <td>...</td>\n    </tr>\n    <tr>\n      <th>995</th>\n      <td>2</td>\n      <td>5</td>\n      <td>r</td>\n      <td>nrrzrr</td>\n    </tr>\n    <tr>\n      <th>996</th>\n      <td>4</td>\n      <td>6</td>\n      <td>g</td>\n      <td>kggggg</td>\n    </tr>\n    <tr>\n      <th>997</th>\n      <td>6</td>\n      <td>7</td>\n      <td>c</td>\n      <td>cccccdqcc</td>\n    </tr>\n    <tr>\n      <th>998</th>\n      <td>2</td>\n      <td>6</td>\n      <td>x</td>\n      <td>vjkxbrfwnj</td>\n    </tr>\n    <tr>\n      <th>999</th>\n      <td>16</td>\n      <td>18</td>\n      <td>s</td>\n      <td>kssssssswssssssssssb</td>\n    </tr>\n  </tbody>\n</table>\n<p>1000 rows × 4 columns</p>\n</div>"
     },
     "metadata": {},
     "execution_count": 2
    }
   ],
   "source": [
    "df = pd.read_csv('2020_02.csv')\n",
    "df"
   ]
  },
  {
   "cell_type": "code",
   "execution_count": 57,
   "metadata": {},
   "outputs": [
    {
     "output_type": "execute_result",
     "data": {
      "text/plain": [
       "3"
      ]
     },
     "metadata": {},
     "execution_count": 57
    }
   ],
   "source": [
    "string = \"gqdrspndrpsrjfjx\"\n",
    "string.index('r')"
   ]
  },
  {
   "cell_type": "code",
   "execution_count": 204,
   "metadata": {},
   "outputs": [
    {
     "output_type": "execute_result",
     "data": {
      "text/plain": [
       "str"
      ]
     },
     "metadata": {},
     "execution_count": 204
    }
   ],
   "source": [
    "type(df['pwd'].values[0])"
   ]
  },
  {
   "cell_type": "code",
   "execution_count": 199,
   "metadata": {},
   "outputs": [],
   "source": [
    "class myclass:\n",
    "\n",
    "    def __init__(self, df, i):\n",
    "        self.min = df.iat[i,0]\n",
    "        self.max = df.iat[i,1]\n",
    "        self.letter = df.iat[i,2]\n",
    "        self.pwd = df.iat[i,3]\n",
    "\n",
    "    def sol1(self):\n",
    "        self.count = self.pwd.count(self.letter)\n",
    "        if self.min <= self.count <= self.max:\n",
    "            return 1\n",
    "        else:\n",
    "            return 0\n",
    "\n",
    "    def sol2(self):\n",
    "        try:\n",
    "            self.ind = self.pwd.index(self.letter)\n",
    "            self.pos = self.ind + 1\n",
    "            if  self.pos == self.min and self.pos != self.max:\n",
    "                return 1\n",
    "\n",
    "            else:\n",
    "                return 0\n",
    "\n",
    "        except ValueError:\n",
    "            return 0"
   ]
  },
  {
   "cell_type": "code",
   "execution_count": 189,
   "metadata": {
    "tags": []
   },
   "outputs": [
    {
     "output_type": "execute_result",
     "data": {
      "text/plain": [
       "600"
      ]
     },
     "metadata": {},
     "execution_count": 189
    }
   ],
   "source": [
    "#correct answer\n",
    "num = 0 \n",
    "for i in range(0,1000):\n",
    "    mc = myclass(df, i)\n",
    "    num += mc.sol1()\n",
    "num"
   ]
  },
  {
   "cell_type": "code",
   "execution_count": 200,
   "metadata": {},
   "outputs": [
    {
     "output_type": "execute_result",
     "data": {
      "text/plain": [
       "0"
      ]
     },
     "metadata": {},
     "execution_count": 200
    }
   ],
   "source": [
    "mc = myclass(df,999)\n",
    "mc.sol2()"
   ]
  },
  {
   "cell_type": "code",
   "execution_count": 201,
   "metadata": {
    "tags": []
   },
   "outputs": [
    {
     "output_type": "execute_result",
     "data": {
      "text/plain": [
       "130"
      ]
     },
     "metadata": {},
     "execution_count": 201
    }
   ],
   "source": [
    "num2 = 0\n",
    "for i in range(0,1000):\n",
    "    mc = myclass(df, i)\n",
    "    num2 += mc.sol2()\n",
    "num2"
   ]
  },
  {
   "cell_type": "code",
   "execution_count": 197,
   "metadata": {
    "tags": []
   },
   "outputs": [
    {
     "output_type": "stream",
     "name": "stdout",
     "text": [
      "245\n"
     ]
    }
   ],
   "source": [
    "#correct answer\n",
    "c=0\n",
    "for v in open(\"2020_02.txt\",\"r\").readlines():\n",
    "    y=v.split \n",
    "    e=int\n",
    "    f,s=y('-')\n",
    "    i=e(f)-1\n",
    "    j=e(s.split()[0])-1\n",
    "    g,x,p=y()\n",
    "    l=x[0]\n",
    "    if(p[i]==l)^(p[j]==l):c+=1\n",
    "print(c)"
   ]
  },
  {
   "cell_type": "code",
   "execution_count": null,
   "metadata": {},
   "outputs": [],
   "source": []
  }
 ]
}