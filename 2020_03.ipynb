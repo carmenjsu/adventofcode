{
 "metadata": {
  "language_info": {
   "codemirror_mode": {
    "name": "ipython",
    "version": 3
   },
   "file_extension": ".py",
   "mimetype": "text/x-python",
   "name": "python",
   "nbconvert_exporter": "python",
   "pygments_lexer": "ipython3",
   "version": "3.7.5-final"
  },
  "orig_nbformat": 2,
  "kernelspec": {
   "name": "python3",
   "display_name": "Python 3.7.5 64-bit",
   "metadata": {
    "interpreter": {
     "hash": "c8bb34ad1b875d3161ce3302675f29779661d4a35ffbd1d17a3da28b3132449a"
    }
   }
  }
 },
 "nbformat": 4,
 "nbformat_minor": 2,
 "cells": [
  {
   "cell_type": "code",
   "execution_count": 64,
   "metadata": {},
   "outputs": [],
   "source": [
    "f = open('2020_03.txt','r')\n",
    "file = f.readlines()\n",
    "for i in range (0, len(file)-1): \n",
    "    file[i] = file[i].replace('\\n','')\n",
    "\n",
    "for i in range (0, len(file)): \n",
    "    for j in range(12):\n",
    "        file[i] += file[i] "
   ]
  },
  {
   "cell_type": "code",
   "execution_count": 29,
   "metadata": {},
   "outputs": [],
   "source": [
    "slope_y = 3\n",
    "slope_x = 1"
   ]
  },
  {
   "cell_type": "code",
   "execution_count": 65,
   "metadata": {},
   "outputs": [
    {
     "output_type": "execute_result",
     "data": {
      "text/plain": [
       "169"
      ]
     },
     "metadata": {},
     "execution_count": 65
    }
   ],
   "source": [
    "map = file\n",
    "num = 0 \n",
    "pos_x = 0 # (x, y) (row, columne)\n",
    "pos_y = 0 \n",
    "\n",
    "for i in range (0, len(map)):\n",
    "    if map[pos_x][pos_y] == '.':\n",
    "        num = num\n",
    "    else:\n",
    "        num += 1\n",
    "    pos_x += slope_x\n",
    "    pos_y += slope_y\n",
    "       \n",
    "num"
   ]
  },
  {
   "cell_type": "code",
   "execution_count": 52,
   "metadata": {},
   "outputs": [
    {
     "output_type": "execute_result",
     "data": {
      "text/plain": [
       "11"
      ]
     },
     "metadata": {},
     "execution_count": 52
    }
   ],
   "source": [
    "for i in range (0, len(map[0]), slope_y):  # y-dir, i\n",
    "    for j in range (0, len(map), slope_x): # x-dir, j\n",
    "        if j == len(map):\n",
    "            break\n",
    "        if map[j][i] == '.':\n",
    "            num = num \n",
    "        if map[j][i] == '#':\n",
    "            num += 1"
   ]
  },
  {
   "cell_type": "code",
   "execution_count": null,
   "metadata": {},
   "outputs": [],
   "source": []
  }
 ]
}