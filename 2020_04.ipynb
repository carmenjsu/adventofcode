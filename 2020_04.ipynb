{
 "metadata": {
  "language_info": {
   "codemirror_mode": {
    "name": "ipython",
    "version": 3
   },
   "file_extension": ".py",
   "mimetype": "text/x-python",
   "name": "python",
   "nbconvert_exporter": "python",
   "pygments_lexer": "ipython3",
   "version": "3.7.5-final"
  },
  "orig_nbformat": 2,
  "kernelspec": {
   "name": "python3",
   "display_name": "Python 3.7.5 64-bit",
   "metadata": {
    "interpreter": {
     "hash": "c8bb34ad1b875d3161ce3302675f29779661d4a35ffbd1d17a3da28b3132449a"
    }
   }
  }
 },
 "nbformat": 4,
 "nbformat_minor": 2,
 "cells": [
  {
   "cell_type": "code",
   "execution_count": 9,
   "metadata": {},
   "outputs": [],
   "source": [
    "import re"
   ]
  },
  {
   "cell_type": "code",
   "execution_count": 240,
   "metadata": {},
   "outputs": [
    {
     "output_type": "execute_result",
     "data": {
      "text/plain": [
       "'ecl:gry pid:860033327 eyr:2020 hcl:#fffffd\\nbyr:1937 iyr:2017 cid:147 hgt:183cm\\n\\niyr:2013 ecl:amb cid:350 eyr:2023 pid:028048884\\nhcl:#cfa07d byr:1929\\n\\nhcl:#ae17e1 iyr:2013\\neyr:2024\\necl:brn pid:760753108 byr:1931\\nhgt:179cm\\n\\nhcl:#cfa07d eyr:2025 pid:166559648\\niyr:2011 ecl:brn hgt:59in'"
      ]
     },
     "metadata": {},
     "execution_count": 240
    }
   ],
   "source": [
    "f = open('2020_04.txt','r')\n",
    "string = f.read()\n",
    "string"
   ]
  },
  {
   "cell_type": "code",
   "execution_count": 241,
   "metadata": {},
   "outputs": [
    {
     "output_type": "execute_result",
     "data": {
      "text/plain": [
       "['ecl:gry pid:860033327 eyr:2020 hcl:#fffffd\\nbyr:1937 iyr:2017 cid:147 hgt:183cm',\n",
       " 'iyr:2013 ecl:amb cid:350 eyr:2023 pid:028048884\\nhcl:#cfa07d byr:1929',\n",
       " 'hcl:#ae17e1 iyr:2013\\neyr:2024\\necl:brn pid:760753108 byr:1931\\nhgt:179cm',\n",
       " 'hcl:#cfa07d eyr:2025 pid:166559648\\niyr:2011 ecl:brn hgt:59in']"
      ]
     },
     "metadata": {},
     "execution_count": 241
    }
   ],
   "source": [
    "file = string.split('\\n\\n')\n",
    "file"
   ]
  },
  {
   "cell_type": "code",
   "execution_count": 242,
   "metadata": {},
   "outputs": [
    {
     "output_type": "execute_result",
     "data": {
      "text/plain": [
       "['ecl:gry pid:860033327 eyr:2020 hcl:#fffffd\\nbyr:1937 iyr:2017 cid:147 hgt:183cm',\n",
       " 'ecl:gry pid:860033327 eyr:2020 hcl:#fffffd\\nbyr:1937 iyr:2017 cid:147 hgt:183cmiyr:2013 ecl:amb cid:350 eyr:2023 pid:028048884\\nhcl:#cfa07d byr:1929',\n",
       " 'ecl:gry pid:860033327 eyr:2020 hcl:#fffffd\\nbyr:1937 iyr:2017 cid:147 hgt:183cmiyr:2013 ecl:amb cid:350 eyr:2023 pid:028048884\\nhcl:#cfa07d byr:1929hcl:#ae17e1 iyr:2013\\neyr:2024\\necl:brn pid:760753108 byr:1931\\nhgt:179cm',\n",
       " 'ecl:gry pid:860033327 eyr:2020 hcl:#fffffd\\nbyr:1937 iyr:2017 cid:147 hgt:183cmiyr:2013 ecl:amb cid:350 eyr:2023 pid:028048884\\nhcl:#cfa07d byr:1929hcl:#ae17e1 iyr:2013\\neyr:2024\\necl:brn pid:760753108 byr:1931\\nhgt:179cmhcl:#cfa07d eyr:2025 pid:166559648\\niyr:2011 ecl:brn hgt:59in']"
      ]
     },
     "metadata": {},
     "execution_count": 242
    }
   ],
   "source": [
    "passport = \"\"\n",
    "passportlist = []\n",
    "for l in file:\n",
    "    if l != '\\n':\n",
    "        passport = passport+l\n",
    "    if l == '\\n':\n",
    "        passport = \"\"\n",
    "    passportlist.append(passport)\n",
    "passportlist # index 1 and 9 are valid "
   ]
  },
  {
   "cell_type": "code",
   "execution_count": 128,
   "metadata": {},
   "outputs": [],
   "source": [
    "to_contain = [\"(^.*byr):\",\"(iyr):\",\"(eyr:)\",\"(hgt:)\",\"(hcl:)\",\"(ecl:)\",\"(pid:)\"]"
   ]
  },
  {
   "cell_type": "code",
   "execution_count": 87,
   "metadata": {},
   "outputs": [],
   "source": [
    "test = ['ecl:gry pid:860033327 eyr:2020 hcl:#fffffd\\n'"
   ]
  },
  {
   "cell_type": "code",
   "execution_count": 212,
   "metadata": {},
   "outputs": [],
   "source": [
    "to_contain = [\"(byr:)\",\"(iyr)\",\"(eyr:)\",\"(hgt:)\",\"(hcl:)\",\"(ecl:)\",\"(pid:)\"]\n",
    "eachline = []\n",
    "count = 0 "
   ]
  },
  {
   "cell_type": "code",
   "execution_count": 247,
   "metadata": {},
   "outputs": [
    {
     "output_type": "execute_result",
     "data": {
      "text/plain": [
       "0"
      ]
     },
     "metadata": {},
     "execution_count": 247
    }
   ],
   "source": [
    "to_contain = [\"(byr:)\",\"(iyr)\",\"(eyr:)\",\"(hgt:)\",\"(hcl:)\",\"(ecl:)\",\"(pid:)\"]\n",
    "eachline = []\n",
    "line = []\n",
    "count = 0 \n",
    "for i in to_contain:\n",
    "    for j in (0, len(file)-1):\n",
    "        if re.search(i, file[j]): # re.serach() start anywhere while re.match() starts checking only from the beginning of the string\n",
    "            result = True\n",
    "        else:\n",
    "            result = False\n",
    "        eachline.append(result)\n",
    "\n",
    "    if line.count(True) >= 7:\n",
    "        count += 1\n",
    "\n",
    "count"
   ]
  },
  {
   "cell_type": "code",
   "execution_count": 225,
   "metadata": {},
   "outputs": [
    {
     "output_type": "execute_result",
     "data": {
      "text/plain": [
       "7"
      ]
     },
     "metadata": {},
     "execution_count": 225
    }
   ],
   "source": [
    "count = 0 \n",
    "for i, j in zip(range(0, len(passportlist)-1), to_contain):\n",
    "    if re.search(j, passportlist[i]):\n",
    "        result = True\n",
    "    else:\n",
    "        result = False\n",
    "    resultlist.append(result)\n",
    "    if all(line):\n",
    "        count += 1\n",
    "count"
   ]
  },
  {
   "cell_type": "code",
   "execution_count": null,
   "metadata": {},
   "outputs": [],
   "source": []
  },
  {
   "cell_type": "code",
   "execution_count": null,
   "metadata": {},
   "outputs": [],
   "source": []
  }
 ]
}